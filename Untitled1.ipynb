{
 "cells": [
  {
   "cell_type": "code",
   "execution_count": 1,
   "id": "e2801261",
   "metadata": {},
   "outputs": [],
   "source": [
    "import pandas as pd\n",
    "import numpy as np\n",
    "import matplotlib.pyplot as plt\n",
    "import requests\n",
    "from bs4 import BeautifulSoup"
   ]
  },
  {
   "cell_type": "code",
   "execution_count": 6,
   "id": "514c3342",
   "metadata": {},
   "outputs": [
    {
     "ename": "TypeError",
     "evalue": "'NoneType' object is not callable",
     "output_type": "error",
     "traceback": [
      "\u001b[1;31m---------------------------------------------------------------------------\u001b[0m",
      "\u001b[1;31mTypeError\u001b[0m                                 Traceback (most recent call last)",
      "Cell \u001b[1;32mIn[6], line 5\u001b[0m\n\u001b[0;32m      3\u001b[0m r\u001b[38;5;241m=\u001b[39mrequests\u001b[38;5;241m.\u001b[39mget(url)\n\u001b[0;32m      4\u001b[0m soup \u001b[38;5;241m=\u001b[39m BeautifulSoup(r\u001b[38;5;241m.\u001b[39mcontent, \u001b[38;5;124m\"\u001b[39m\u001b[38;5;124mhtml.parser\u001b[39m\u001b[38;5;124m\"\u001b[39m)\n\u001b[1;32m----> 5\u001b[0m t1\u001b[38;5;241m=\u001b[39m\u001b[43msoup\u001b[49m\u001b[38;5;241;43m.\u001b[39;49m\u001b[43mget_table\u001b[49m\u001b[43m(\u001b[49m\u001b[43m)\u001b[49m\n\u001b[0;32m      6\u001b[0m \u001b[38;5;28mprint\u001b[39m(t1)\n\u001b[0;32m      7\u001b[0m \u001b[38;5;28mprint\u001b[39m(\u001b[38;5;124m\"\u001b[39m\u001b[38;5;124mHello\u001b[39m\u001b[38;5;124m\"\u001b[39m)\n",
      "\u001b[1;31mTypeError\u001b[0m: 'NoneType' object is not callable"
     ]
    }
   ],
   "source": [
    "player=\"Rohit_Sharma\"\n",
    "url=\"https://en.wikipedia.org/wiki/Rohit_Sharma\"\n",
    "r=requests.get(url)\n",
    "soup = BeautifulSoup(r.content, \"html.parser\")\n",
    "t1=soup.get_table()\n",
    "print(t1)\n",
    "print(\"Hello\")\n",
    "print(t1[3])"
   ]
  },
  {
   "cell_type": "code",
   "execution_count": 13,
   "id": "3628ba6e",
   "metadata": {},
   "outputs": [],
   "source": [
    "# format=3\n",
    "# format_name = \"T20s\"\n",
    "# player = 'Mitchell Santner'\n",
    "# url = \"http://search.espncricinfo.com/ci/content/player/search.html?search=\" + player.lower().replace(\" \",\"+\") + \"&x=0&y=0\"\n",
    "# page = requests.get(url)"
   ]
  },
  {
   "cell_type": "code",
   "execution_count": 14,
   "id": "f57719bd",
   "metadata": {},
   "outputs": [
    {
     "name": "stdout",
     "output_type": "stream",
     "text": [
      "502714\n",
      "   Overs Mdns Runs Wkts  Econ Pos Inns  Unnamed: 7   Opposition  \\\n",
      "0    4.0    0   28    2  7.00   1    1         NaN    v England   \n",
      "1    4.0    0   24    2  6.00   4    1         NaN  v Sri Lanka   \n",
      "2    4.0    0   14    2  3.50   5    1         NaN   v Pakistan   \n",
      "3    3.0    0   29    1  9.66   1    1         NaN   v Pakistan   \n",
      "4    1.0    0    7    0  7.00   4    2         NaN   v Pakistan   \n",
      "..   ...  ...  ...  ...   ...  ..  ...         ...          ...   \n",
      "78   3.0    0   27    0  9.00   6    1         NaN      v India   \n",
      "79   1.0    0    5    0  5.00   5    2         NaN      v India   \n",
      "80   4.0    1   11    2  2.75   3    2         NaN      v India   \n",
      "81   4.0    0   20    0  5.00   3    2         NaN      v India   \n",
      "82   4.0    0   37    0  9.25   6    1         NaN      v India   \n",
      "\n",
      "             Ground   Start Date  Unnamed: 11  \n",
      "0        Manchester  23 Jun 2015   T20I # 423  \n",
      "1          Auckland  10 Jan 2016   T20I # 476  \n",
      "2          Auckland  15 Jan 2016   T20I # 478  \n",
      "3          Hamilton  17 Jan 2016   T20I # 480  \n",
      "4        Wellington  22 Jan 2016   T20I # 483  \n",
      "..              ...          ...          ...  \n",
      "78  Mount Maunganui  20 Nov 2022  T20I # 1898  \n",
      "79           Napier  22 Nov 2022  T20I # 1911  \n",
      "80           Ranchi  27 Jan 2023  T20I # 1990  \n",
      "81          Lucknow  29 Jan 2023  T20I # 1991  \n",
      "82        Ahmedabad   1 Feb 2023  T20I # 1992  \n",
      "\n",
      "[83 rows x 12 columns]\n"
     ]
    }
   ],
   "source": [
    "# soup = BeautifulSoup(page.content, \"html.parser\")\n",
    "# player_id = str(soup.find_all(class_='ColumnistSmry')[0]).split('.html')[0].split('/')[-1]\n",
    "# print(player_id)\n",
    "# df = pd.read_html(f'https://stats.espncricinfo.com/ci/engine/player/{player_id}.html?class={format};template=results;type=bowling;view=innings')[3]\n",
    "# print(df)"
   ]
  },
  {
   "cell_type": "code",
   "execution_count": 16,
   "id": "8e7b5643",
   "metadata": {},
   "outputs": [
    {
     "name": "stdout",
     "output_type": "stream",
     "text": [
      "83\n",
      "2021\n",
      "91\n",
      "22.208791208791208\n"
     ]
    }
   ],
   "source": [
    "# bo=0\n",
    "# inn=len(df)\n",
    "# print(inn)\n",
    "# runs=0\n",
    "# for i in df.Runs:\n",
    "#     if i!= '-':\n",
    "#         runs+=int(i)\n",
    "# print(runs)\n",
    "# wc=0\n",
    "# for i in df.Wkts:\n",
    "#     if i!= '-':\n",
    "#         wc+=int(i)\n",
    "# print(wc)\n",
    "# bow_avg=(runs/wc)\n",
    "# print(bow_avg)\n",
    "    \n",
    "    "
   ]
  },
  {
   "cell_type": "code",
   "execution_count": 5,
   "id": "9acd85ec",
   "metadata": {},
   "outputs": [
    {
     "name": "stdout",
     "output_type": "stream",
     "text": [
      "253802\n"
     ]
    }
   ],
   "source": [
    "# soup = BeautifulSoup(page.content, \"html.parser\")\n",
    "# player_id = str(soup.find_all(class_='ColumnistSmry')[0]).split('.html')[0].split('/')[-1]\n",
    "# print(player_id)"
   ]
  },
  {
   "cell_type": "code",
   "execution_count": null,
   "id": "6afa08dd",
   "metadata": {},
   "outputs": [],
   "source": []
  }
 ],
 "metadata": {
  "kernelspec": {
   "display_name": "Python 3 (ipykernel)",
   "language": "python",
   "name": "python3"
  },
  "language_info": {
   "codemirror_mode": {
    "name": "ipython",
    "version": 3
   },
   "file_extension": ".py",
   "mimetype": "text/x-python",
   "name": "python",
   "nbconvert_exporter": "python",
   "pygments_lexer": "ipython3",
   "version": "3.9.7"
  }
 },
 "nbformat": 4,
 "nbformat_minor": 5
}
